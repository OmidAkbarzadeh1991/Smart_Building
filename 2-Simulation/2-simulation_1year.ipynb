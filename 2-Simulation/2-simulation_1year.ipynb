{
 "cells": [
  {
   "cell_type": "code",
   "execution_count": null,
   "metadata": {},
   "outputs": [],
   "source": [
    "from eppy import modeleditor\n",
    "from eppy.modeleditor import IDF\n",
    "from matplotlib import pyplot as plt\n",
    "import os\n",
    "import pandas as pd\n",
    "import besos as besos\n",
    "from besos import eppy_funcs as ef\n",
    "from besos import sampling\n",
    "from besos.evaluator import EvaluatorEP\n",
    "from besos.parameters import RangeParameter, FieldSelector, FilterSelector, Parameter, expand_plist, wwr, CategoryParameter, GenericSelector\n",
    "from besos.problem import EPProblem"
   ]
  },
  {
   "cell_type": "markdown",
   "metadata": {},
   "source": [
    "#### Define the IDF, IDD and the weather file"
   ]
  },
  {
   "cell_type": "code",
   "execution_count": null,
   "metadata": {},
   "outputs": [],
   "source": [
    "idd_file=' dir to EnergyPlus/Energy+.idd'\n",
    "weather_file ='dir to epw file'"
   ]
  },
  {
   "cell_type": "code",
   "execution_count": null,
   "metadata": {},
   "outputs": [],
   "source": [
    "building = ef.get_building('dir to idf')"
   ]
  },
  {
   "cell_type": "code",
   "execution_count": null,
   "metadata": {},
   "outputs": [],
   "source": [
    "insulation = FieldSelector(class_name='Material', object_name='Cement/plaster/mortar - gypsum plaster_O.OO2', field_name='Thickness')\n",
    "insulationPR = Parameter(selector=insulation, value_descriptor=CategoryParameter(options=[0.0001,0.05,0.2]),name='Insulation Thickness')\n",
    "window_to_wall = wwr(RangeParameter(0.1,0.9))\n",
    "\n",
    "parameters = [window_to_wall, insulationPR]"
   ]
  },
  {
   "cell_type": "markdown",
   "metadata": {},
   "source": [
    "#### setting optimal found values as sample"
   ]
  },
  {
   "cell_type": "code",
   "execution_count": null,
   "metadata": {
    "scrolled": true
   },
   "outputs": [],
   "source": [
    "samples_temp =[]\n",
    "samples_temp.append({'Window to Wall Ratio': 0.1,                     \n",
    "                     'Insulation Thickness': 0.2,})\n",
    "samples = pd.DataFrame.from_dict(samples_temp)\n",
    "samples"
   ]
  },
  {
   "cell_type": "code",
   "execution_count": null,
   "metadata": {},
   "outputs": [],
   "source": [
    "objectives = ['Electricity:Facility', 'DistrictHeating:Facility', 'DistrictCooling:Facility']\n",
    "\n",
    "problem = EPProblem(parameters, objectives)\n",
    "evaluator = EvaluatorEP(problem, building, out_dir=('Output directory'),\n",
    "                        error_mode='Silent', err_dir='Error directory',\n",
    "                        epw= weather_file)\n",
    "outputs = evaluator.df_apply(samples, keep_input=True)    \n",
    "outputs"
   ]
  },
  {
   "cell_type": "code",
   "execution_count": null,
   "metadata": {},
   "outputs": [],
   "source": [
    "idf_file = 'idf directory'\n",
    "IDF.setiddname(idd_file)\n",
    "idf = IDF(idf_file,weather_file)"
   ]
  },
  {
   "cell_type": "markdown",
   "metadata": {},
   "source": [
    "#### Performing simulation"
   ]
  },
  {
   "cell_type": "code",
   "execution_count": null,
   "metadata": {},
   "outputs": [],
   "source": [
    "idf.run(readvars=True,output_directory=u'directory for output_EPPY')"
   ]
  },
  {
   "cell_type": "markdown",
   "metadata": {},
   "source": [
    "#### Performing file management to extract desired results"
   ]
  },
  {
   "cell_type": "code",
   "execution_count": null,
   "metadata": {},
   "outputs": [],
   "source": [
    "csv_columns = ['Date/Time',\n",
    "              'BLOCK1:ZONE2:Zone Operative Temperature [C](Hourly)',\n",
    "              'BLOCK1:ZONE1:Zone Operative Temperature [C](Hourly)',\n",
    "              'Environment:Site Outdoor Air Drybulb Temperature [C](Hourly)',\n",
    "              'DistrictHeating:Facility [J](Hourly)',\n",
    "              'DistrictCooling:Facility [J](Hourly)',\n",
    "              'Electricity:Facility [J](Hourly)']\n",
    "              #'InteriorEquipment:Electricity [J](Hourly)']"
   ]
  },
  {
   "cell_type": "code",
   "execution_count": null,
   "metadata": {},
   "outputs": [],
   "source": [
    "df_columns = {'Date/Time':'Date_Time',\n",
    "              'BLOCK1:ZONE2:Zone Operative Temperature [C](Hourly)':'t_in_ZONE2',\n",
    "              'BLOCK1:ZONE1:Zone Operative Temperature [C](Hourly)':'t_in_ZONE1',\n",
    "              'Environment:Site Outdoor Air Drybulb Temperature [C](Hourly)':'t_out',\n",
    "              'DistrictHeating:Facility [J](Hourly)':'power_heating',\n",
    "              'DistrictCooling:Facility [J](Hourly)':'power_cooling' ,\n",
    "              'Electricity:Facility [J](Hourly)':'power_electricity'}\n",
    "              #'InteriorEquipment:Electricity [J](Hourly)':'power_InteriorEquipment'}"
   ]
  },
  {
   "cell_type": "code",
   "execution_count": null,
   "metadata": {
    "scrolled": true
   },
   "outputs": [],
   "source": [
    "idf_data =pd.read_csv('csv directory',usecols=csv_columns)"
   ]
  },
  {
   "cell_type": "code",
   "execution_count": null,
   "metadata": {},
   "outputs": [],
   "source": [
    "idf_data = idf_data.rename(columns =df_columns)"
   ]
  },
  {
   "cell_type": "code",
   "execution_count": null,
   "metadata": {},
   "outputs": [],
   "source": [
    "idf_data['t_in'] = idf_data[['t_in_ZONE2','t_in_ZONE1']].mean(axis=1)\n",
    "idf_data.drop(['t_in_ZONE2', 't_in_ZONE1'], axis = 1)"
   ]
  },
  {
   "cell_type": "code",
   "execution_count": null,
   "metadata": {},
   "outputs": [],
   "source": [
    "idf_data = idf_data.dropna()"
   ]
  },
  {
   "cell_type": "code",
   "execution_count": null,
   "metadata": {},
   "outputs": [],
   "source": [
    "idf_data.reset_index(drop = True)"
   ]
  },
  {
   "cell_type": "code",
   "execution_count": null,
   "metadata": {},
   "outputs": [],
   "source": [
    "idf_data['temp_diff'] =idf_data['t_in'] - idf_data['t_out']"
   ]
  },
  {
   "cell_type": "code",
   "execution_count": null,
   "metadata": {},
   "outputs": [],
   "source": [
    "idf_data['Date_Time'] = '2020/' + idf_data['Date_Time'].str.strip()\n",
    "idf_data['Date_Time'] = idf_data['Date_Time'].str.replace('24:00:00','23:59:59')"
   ]
  },
  {
   "cell_type": "code",
   "execution_count": null,
   "metadata": {},
   "outputs": [],
   "source": [
    "idf_data['power_heating'] /= 3.6e6\n",
    "idf_data['power_cooling'] /= 3.6e6\n",
    "idf_data['power_electricity'] /= 3.6e6"
   ]
  },
  {
   "cell_type": "code",
   "execution_count": null,
   "metadata": {},
   "outputs": [],
   "source": [
    "idf_data['power_heating'] = idf_data['power_heating'].apply(lambda x: round(x, 2))\n",
    "idf_data['power_cooling'] = idf_data['power_cooling'].apply(lambda x: round(x, 2))\n",
    "idf_data['power_electricity'] = idf_data['power_electricity'].apply(lambda x: round(x, 2))\n",
    "idf_data['t_in'] = idf_data['t_in'].apply(lambda x: round(x, 2))\n",
    "idf_data['t_out'] = idf_data['t_out'].apply(lambda x: round(x, 2))"
   ]
  },
  {
   "cell_type": "code",
   "execution_count": null,
   "metadata": {},
   "outputs": [],
   "source": [
    "idf_data['total_power'] = idf_data['power_heating']+ idf_data['power_cooling'] #+idf_data['power_electricity']"
   ]
  },
  {
   "cell_type": "code",
   "execution_count": null,
   "metadata": {},
   "outputs": [],
   "source": [
    "idf_data = idf_data[['Date_Time','t_in','t_out','temp_diff','power_heating','power_cooling','power_electricity','total_power']]"
   ]
  },
  {
   "cell_type": "code",
   "execution_count": null,
   "metadata": {},
   "outputs": [],
   "source": [
    "idf_data.to_csv(path_or_buf='Final simulation Data csv directory',index=False)"
   ]
  }
 ],
 "metadata": {
  "kernelspec": {
   "display_name": "Python 3",
   "language": "python",
   "name": "python3"
  },
  "language_info": {
   "codemirror_mode": {
    "name": "ipython",
    "version": 3
   },
   "file_extension": ".py",
   "mimetype": "text/x-python",
   "name": "python",
   "nbconvert_exporter": "python",
   "pygments_lexer": "ipython3",
   "version": "3.8.8"
  }
 },
 "nbformat": 4,
 "nbformat_minor": 2
}
