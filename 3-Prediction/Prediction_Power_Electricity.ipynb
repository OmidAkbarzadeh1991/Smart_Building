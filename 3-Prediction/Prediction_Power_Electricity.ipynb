{
 "cells": [
  {
   "cell_type": "code",
   "execution_count": null,
   "metadata": {},
   "outputs": [],
   "source": [
    "from matplotlib import pyplot as plt\n",
    "import pandas as pd\n",
    "from sklearn.preprocessing import MinMaxScaler\n",
    "import numpy as np\n",
    "from keras.models import Sequential\n",
    "from keras.optimizers import Adam\n",
    "from keras.layers import Dense, LSTM, LeakyReLU, Dropout\n",
    "import seaborn as sns\n",
    "import plotly.graph_objects as go\n",
    "import plotly.express as px\n",
    "import tensorflow as tf"
   ]
  },
  {
   "cell_type": "code",
   "execution_count": null,
   "metadata": {},
   "outputs": [],
   "source": [
    "data = pd.read_csv(\"CSV directory\")\n",
    "data.head()"
   ]
  },
  {
   "cell_type": "code",
   "execution_count": null,
   "metadata": {},
   "outputs": [],
   "source": [
    "power_electricity = data[['power_electricity']]\n",
    "power_electricity_data = go.Scatter(x = data['Date_Time'], y = data['power_electricity'])\n",
    "layout = go.Layout(title ='power_electricity time series', xaxis = dict(title='Date'), yaxis = dict(title='Power electricity'))\n",
    "\n",
    "fig = go.Figure(data = [power_electricity_data], layout = layout)\n",
    "fig.write_html('Scatter_Power_Electricity.html', auto_open = True)"
   ]
  },
  {
   "cell_type": "code",
   "execution_count": null,
   "metadata": {},
   "outputs": [],
   "source": [
    "min_max_scaler = MinMaxScaler()\n",
    "norm_data = min_max_scaler.fit_transform(power_electricity.values)\n",
    "norm_data\n",
    "norm_data_df = pd.DataFrame(norm_data)\n",
    "norm_data_df.head()"
   ]
  },
  {
   "cell_type": "code",
   "execution_count": null,
   "metadata": {},
   "outputs": [],
   "source": [
    "def univariate_data(dataset, start_index, end_index, history_size, target_size):\n",
    "    data = []\n",
    "    labels = []\n",
    "    start_index = start_index + history_size\n",
    "    if end_index is None:\n",
    "        end_index = len(dataset) - target_size\n",
    "    for i in range(start_index, end_index):\n",
    "        indices = range(i-history_size, i)\n",
    "        data.append(np.reshape(dataset[indices], (history_size, 1)))\n",
    "        labels.append(dataset[i+target_size])\n",
    "    return np.array(data), np.array(labels)"
   ]
  },
  {
   "cell_type": "code",
   "execution_count": null,
   "metadata": {},
   "outputs": [],
   "source": [
    "past_history = 5\n",
    "future_target = 0\n",
    "\n",
    "TRAIN_SPLIT = int(len(norm_data) * 0.8)\n",
    "\n",
    "x_train, y_train = univariate_data(norm_data,\n",
    "                                   0,\n",
    "                                   TRAIN_SPLIT,\n",
    "                                   past_history,\n",
    "                                   future_target)\n",
    "\n",
    "x_test, y_test = univariate_data(norm_data,\n",
    "                                 TRAIN_SPLIT,\n",
    "                                 None,\n",
    "                                 past_history,\n",
    "                                 future_target)"
   ]
  },
  {
   "cell_type": "code",
   "execution_count": null,
   "metadata": {},
   "outputs": [],
   "source": [
    "num_units = 64\n",
    "learning_rate = 0.0001\n",
    "activation_function = 'sigmoid'\n",
    "adam = Adam(lr=learning_rate)\n",
    "loss_function = 'mse'\n",
    "batch_size = 5\n",
    "num_epochs = 50\n",
    "\n",
    "# Initialize the RNN\n",
    "model = Sequential()\n",
    "model.add(LSTM(units = num_units, activation=activation_function, input_shape=(None, 1)))\n",
    "model.add(LeakyReLU(alpha=0.5))\n",
    "model.add(Dropout(0.1))\n",
    "model.add(Dense(units = 1))\n",
    "\n",
    "# Compiling the RNN\n",
    "model.compile(optimizer=adam, loss=loss_function)"
   ]
  },
  {
   "cell_type": "code",
   "execution_count": null,
   "metadata": {},
   "outputs": [],
   "source": [
    "history = model.fit(\n",
    "    x_train,\n",
    "    y_train,\n",
    "    validation_split=0.1,\n",
    "    batch_size=batch_size,\n",
    "    epochs=num_epochs,\n",
    "    shuffle=False\n",
    ")"
   ]
  },
  {
   "cell_type": "code",
   "execution_count": null,
   "metadata": {},
   "outputs": [],
   "source": [
    "loss = history.history['loss']\n",
    "val_loss = history.history['val_loss']\n",
    "\n",
    "epochs = range(len(loss))\n",
    "epochs_list = [*range(0, 50, 1)]\n",
    "\n",
    "fig2 = go.Figure()\n",
    "fig2.add_trace(go.Scatter(x = epochs_list, y = loss, mode = 'lines', name = 'Loss'))\n",
    "fig2.add_trace(go.Scatter(x = epochs_list, y = val_loss, mode = 'lines', name = 'Loss Val'))\n",
    "fig2.update_layout(\n",
    "    title=\"Power electricity Loss VS Loss Val\",\n",
    "    xaxis_title=\"Epochs\",\n",
    "    yaxis_title=\"Loss and Loss Val\",\n",
    ")\n",
    "fig2.write_html('Power electricity Loss VS Los Val.html', auto_open = True)"
   ]
  },
  {
   "cell_type": "code",
   "execution_count": null,
   "metadata": {},
   "outputs": [],
   "source": [
    "original = pd.DataFrame(min_max_scaler.inverse_transform(y_test))\n",
    "predictions = pd.DataFrame(min_max_scaler.inverse_transform(model.predict(x_test)))"
   ]
  },
  {
   "cell_type": "code",
   "execution_count": null,
   "metadata": {},
   "outputs": [],
   "source": [
    "fig3 = go.Figure()\n",
    "fig3.add_trace(go.Scatter(x = original.index, y = original[0], mode = 'lines', name = 'Test Data'))\n",
    "fig3.add_trace(go.Scatter(x = predictions.index, y = predictions[0], mode = 'lines', name = 'Predictions'))\n",
    "fig3.update_layout(\n",
    "    title=\"Original VS Predictions\",\n",
    "    xaxis_title=\"Days\",\n",
    "    yaxis_title=\"Original and Predictions\",\n",
    ")\n",
    "fig3.write_html('Original VS Predictions Power electricity.html', auto_open = True)"
   ]
  }
 ],
 "metadata": {
  "kernelspec": {
   "display_name": "Python 3",
   "language": "python",
   "name": "python3"
  },
  "language_info": {
   "codemirror_mode": {
    "name": "ipython",
    "version": 3
   },
   "file_extension": ".py",
   "mimetype": "text/x-python",
   "name": "python",
   "nbconvert_exporter": "python",
   "pygments_lexer": "ipython3",
   "version": "3.8.5"
  }
 },
 "nbformat": 4,
 "nbformat_minor": 4
}
