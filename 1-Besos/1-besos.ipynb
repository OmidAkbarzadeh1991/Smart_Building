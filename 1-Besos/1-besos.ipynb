{
 "cells": [
  {
   "cell_type": "code",
   "execution_count": null,
   "metadata": {
    "colab": {},
    "colab_type": "code",
    "id": "PKz-hOLc5NDG"
   },
   "outputs": [],
   "source": [
    "import matplotlib.pyplot as plt\n",
    "from seaborn import heatmap\n",
    "from seaborn import pairplot\n",
    "from besos import eppy_funcs as ef\n",
    "from besos import sampling\n",
    "from besos.evaluator import EvaluatorEP\n",
    "from besos.parameters import RangeParameter, FieldSelector, FilterSelector, Parameter, expand_plist, wwr, CategoryParameter, GenericSelector\n",
    "from besos.problem import EPProblem\n",
    "import pandas as pd\n",
    "import numpy as np\n",
    "import copy\n",
    "import os\n",
    "from matplotlib.colors import LinearSegmentedColormap\n",
    "import seaborn as sns"
   ]
  },
  {
   "cell_type": "markdown",
   "metadata": {},
   "source": [
    "#### Making Samples"
   ]
  },
  {
   "cell_type": "code",
   "execution_count": null,
   "metadata": {},
   "outputs": [],
   "source": [
    "samples_temp = []\n",
    "wwr_values = np.linspace(0.1,0.9,9)\n",
    "thickness_values = [0.0001,0.05,0.35]\n",
    "for thickness in thickness_values:\n",
    "    for wwr_ in wwr_values:\n",
    "        samples_temp.append({'Window to Wall Ratio': wwr_,\n",
    "                             'Insulation Thickness': thickness,})\n",
    "samples = pd.DataFrame.from_dict(samples_temp)\n",
    "samples              "
   ]
  },
  {
   "cell_type": "markdown",
   "metadata": {},
   "source": [
    "#### Loading data and pefroming Besos evaluation"
   ]
  },
  {
   "cell_type": "code",
   "execution_count": null,
   "metadata": {
    "scrolled": false
   },
   "outputs": [],
   "source": [
    "main_dir = '../idf'\n",
    "results = pd.core.frame.DataFrame()\n",
    "\n",
    "for filename in os.listdir(main_dir):\n",
    "    if filename.endswith('.idf'):\n",
    "        params = filename.split('.')[0].split('_')\n",
    "        ventilation = params[0]\n",
    "        building = ef.get_building(main_dir + '/' + filename)\n",
    "        insulation = FieldSelector(class_name='Material', object_name='Cement/plaster/mortar - gypsum plaster_O.OO2', field_name='Thickness')\n",
    "        insulationPR = Parameter(selector=insulation, value_descriptor=CategoryParameter(options=[0.0001,0.05,0.35]),name='Insulation Thickness')\n",
    "\n",
    "        window_to_wall = wwr(RangeParameter(0.1,0.9))\n",
    "\n",
    "        parameters = [window_to_wall, insulationPR]\n",
    "\n",
    "        objectives = ['Electricity:Facility', 'DistrictHeating:Facility', 'DistrictCooling:Facility','InteriorLights:Electricity']\n",
    "\n",
    "        problem = EPProblem(parameters, objectives)\n",
    "        evaluator = EvaluatorEP(problem, building, out_dir='Output/output_besos', error_mode='Silent', err_dir='Output/output_besos',\n",
    "                            epw='./epw/casaccia_ENEA-hour.epw')\n",
    "        \n",
    "        outputs = evaluator.df_apply(samples, keep_input=True)    \n",
    "        if ventilation == 'on':\n",
    "            outputs['Ventilation'] = 'on'\n",
    "        else:\n",
    "            outputs['Ventilation'] = 'off'\n",
    "\n",
    "        results = results.append(outputs)\n"
   ]
  },
  {
   "cell_type": "markdown",
   "metadata": {},
   "source": [
    "#### Conversion to KWh"
   ]
  },
  {
   "cell_type": "code",
   "execution_count": null,
   "metadata": {},
   "outputs": [],
   "source": [
    "results['Electricity:Facility'] /= 3.6e6\n",
    "results['DistrictHeating:Facility'] /= 3.6e6\n",
    "results['DistrictCooling:Facility'] /= 3.6e6\n",
    "results['TotalConsumption'] = results['DistrictHeating:Facility'] + results['DistrictCooling:Facility']\n",
    "results['InteriorLights:Electricity'] /= 3.6e6\n",
    "results"
   ]
  },
  {
   "cell_type": "code",
   "execution_count": null,
   "metadata": {},
   "outputs": [],
   "source": [
    "results = results.reset_index()\n",
    "results"
   ]
  },
  {
   "cell_type": "code",
   "execution_count": null,
   "metadata": {
    "scrolled": true
   },
   "outputs": [],
   "source": [
    "results['Electricity:Facility'] = results['Electricity:Facility'].apply(lambda x: round(x, 2))\n",
    "results['DistrictHeating:Facility'] = results['DistrictHeating:Facility'].apply(lambda x: round(x, 2))\n",
    "results['DistrictCooling:Facility'] = results['DistrictCooling:Facility'].apply(lambda x: round(x, 2))\n",
    "results['TotalConsumption'] = results['TotalConsumption'].apply(lambda x: round(x, 2))\n",
    "results['InteriorLights:Electricity'] = results['InteriorLights:Electricity'].apply(lambda x: round(x, 2))\n",
    "results"
   ]
  },
  {
   "cell_type": "markdown",
   "metadata": {},
   "source": [
    "#### showing lowest and highest power consumption"
   ]
  },
  {
   "cell_type": "code",
   "execution_count": null,
   "metadata": {},
   "outputs": [],
   "source": [
    "minValue = results['TotalConsumption'].min()\n",
    "minValueLoc = results['TotalConsumption'].idxmin()\n",
    "minValue\n",
    "print(\"lowest total consumption:\",minValue,\",Location: row\",minValueLoc)\n",
    "\n",
    "maxValue = results['TotalConsumption'].max()\n",
    "maxValueLoc = results['TotalConsumption'].idxmax()\n",
    "\n",
    "print(\"highest total consumption:\",maxValue,\",Location: row\",maxValueLoc)"
   ]
  },
  {
   "cell_type": "code",
   "execution_count": null,
   "metadata": {},
   "outputs": [],
   "source": [
    "writer = pd.ExcelWriter(\"Dir to Output\")\n",
    "results.to_excel(writer,sheet_name='Name of sheet_name') \n",
    "writer.save()"
   ]
  }
 ],
 "metadata": {
  "colab": {
   "name": "Copy of FirstTest.ipynb",
   "provenance": [
    {
     "file_id": "19mWNy44_oNh9-nKCjsRLNFu_nLvVT6YQ",
     "timestamp": 1579038735678
    }
   ]
  },
  "kernelspec": {
   "display_name": "Python 3.8.8 ('base')",
   "language": "python",
   "name": "python3"
  },
  "language_info": {
   "codemirror_mode": {
    "name": "ipython",
    "version": 3
   },
   "file_extension": ".py",
   "mimetype": "text/x-python",
   "name": "python",
   "nbconvert_exporter": "python",
   "pygments_lexer": "ipython3",
   "version": "3.8.8"
  },
  "vscode": {
   "interpreter": {
    "hash": "bce0000dd147f69ef1c4242a1195dbeafc0c07568840bfec8d6d446f93bd7efe"
   }
  }
 },
 "nbformat": 4,
 "nbformat_minor": 1
}
